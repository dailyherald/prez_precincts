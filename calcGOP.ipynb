{
 "cells": [
  {
   "cell_type": "code",
   "execution_count": 1,
   "metadata": {
    "collapsed": false
   },
   "outputs": [
    {
     "name": "stdout",
     "output_type": "stream",
     "text": [
      "ready\n"
     ]
    }
   ],
   "source": [
    "\n",
    "import pandas as pd\n",
    "import numpy as np\n",
    "print(\"ready\")"
   ]
  },
  {
   "cell_type": "code",
   "execution_count": 2,
   "metadata": {
    "collapsed": false
   },
   "outputs": [
    {
     "data": {
      "text/plain": [
       "Precinct    object\n",
       "Trump        int64\n",
       "Cruz         int64\n",
       "Kasich       int64\n",
       "Rubio        int64\n",
       "Carson       int64\n",
       "Santorum     int64\n",
       "Paul         int64\n",
       "Huckabee     int64\n",
       "Bush         int64\n",
       "Christie     int64\n",
       "Fiorina      int64\n",
       "dtype: object"
      ]
     },
     "execution_count": 2,
     "metadata": {},
     "output_type": "execute_result"
    }
   ],
   "source": [
    "df = pd.DataFrame.from_csv('GOPprez/DuPageGOP.csv', index_col=None)\n",
    "df.dtypes"
   ]
  },
  {
   "cell_type": "code",
   "execution_count": 53,
   "metadata": {
    "collapsed": false
   },
   "outputs": [
    {
     "data": {
      "text/plain": [
       "Precinct    object\n",
       "Trump        int64\n",
       "Cruz         int64\n",
       "Kasich       int64\n",
       "Rubio        int64\n",
       "Carson       int64\n",
       "Bush         int64\n",
       "Christie     int64\n",
       "Paul         int64\n",
       "Fiorina      int64\n",
       "Huckabee     int64\n",
       "Santorum     int64\n",
       "dtype: object"
      ]
     },
     "execution_count": 53,
     "metadata": {},
     "output_type": "execute_result"
    }
   ],
   "source": [
    "df.drop(df.columns[[12,13,14,15]], axis=1, inplace=True)\n",
    "df.dtypes"
   ]
  },
  {
   "cell_type": "code",
   "execution_count": 3,
   "metadata": {
    "collapsed": false
   },
   "outputs": [
    {
     "data": {
      "text/html": [
       "<div>\n",
       "<table border=\"1\" class=\"dataframe\">\n",
       "  <thead>\n",
       "    <tr style=\"text-align: right;\">\n",
       "      <th></th>\n",
       "      <th>Precinct</th>\n",
       "      <th>Trump</th>\n",
       "      <th>Cruz</th>\n",
       "      <th>Kasich</th>\n",
       "      <th>Rubio</th>\n",
       "      <th>Carson</th>\n",
       "      <th>Santorum</th>\n",
       "      <th>Paul</th>\n",
       "      <th>Huckabee</th>\n",
       "      <th>Bush</th>\n",
       "      <th>Christie</th>\n",
       "      <th>Fiorina</th>\n",
       "      <th>winner</th>\n",
       "      <th>Trump_margin</th>\n",
       "    </tr>\n",
       "  </thead>\n",
       "  <tbody>\n",
       "    <tr>\n",
       "      <th>0</th>\n",
       "      <td>Addison 1</td>\n",
       "      <td>39</td>\n",
       "      <td>21</td>\n",
       "      <td>14</td>\n",
       "      <td>3</td>\n",
       "      <td>1</td>\n",
       "      <td>0</td>\n",
       "      <td>0</td>\n",
       "      <td>0</td>\n",
       "      <td>0</td>\n",
       "      <td>0</td>\n",
       "      <td>0</td>\n",
       "      <td>Trump</td>\n",
       "      <td>18</td>\n",
       "    </tr>\n",
       "    <tr>\n",
       "      <th>1</th>\n",
       "      <td>Addison 10</td>\n",
       "      <td>70</td>\n",
       "      <td>31</td>\n",
       "      <td>8</td>\n",
       "      <td>13</td>\n",
       "      <td>0</td>\n",
       "      <td>0</td>\n",
       "      <td>0</td>\n",
       "      <td>0</td>\n",
       "      <td>0</td>\n",
       "      <td>0</td>\n",
       "      <td>0</td>\n",
       "      <td>Trump</td>\n",
       "      <td>39</td>\n",
       "    </tr>\n",
       "    <tr>\n",
       "      <th>2</th>\n",
       "      <td>Addison 11</td>\n",
       "      <td>65</td>\n",
       "      <td>39</td>\n",
       "      <td>7</td>\n",
       "      <td>8</td>\n",
       "      <td>0</td>\n",
       "      <td>0</td>\n",
       "      <td>0</td>\n",
       "      <td>0</td>\n",
       "      <td>0</td>\n",
       "      <td>0</td>\n",
       "      <td>0</td>\n",
       "      <td>Trump</td>\n",
       "      <td>26</td>\n",
       "    </tr>\n",
       "    <tr>\n",
       "      <th>3</th>\n",
       "      <td>Addison 12</td>\n",
       "      <td>74</td>\n",
       "      <td>27</td>\n",
       "      <td>27</td>\n",
       "      <td>15</td>\n",
       "      <td>1</td>\n",
       "      <td>0</td>\n",
       "      <td>0</td>\n",
       "      <td>0</td>\n",
       "      <td>1</td>\n",
       "      <td>0</td>\n",
       "      <td>0</td>\n",
       "      <td>Trump</td>\n",
       "      <td>47</td>\n",
       "    </tr>\n",
       "    <tr>\n",
       "      <th>4</th>\n",
       "      <td>Addison 13</td>\n",
       "      <td>104</td>\n",
       "      <td>41</td>\n",
       "      <td>37</td>\n",
       "      <td>4</td>\n",
       "      <td>1</td>\n",
       "      <td>0</td>\n",
       "      <td>0</td>\n",
       "      <td>0</td>\n",
       "      <td>0</td>\n",
       "      <td>0</td>\n",
       "      <td>0</td>\n",
       "      <td>Trump</td>\n",
       "      <td>63</td>\n",
       "    </tr>\n",
       "  </tbody>\n",
       "</table>\n",
       "</div>"
      ],
      "text/plain": [
       "     Precinct  Trump  Cruz  Kasich  Rubio  Carson  Santorum  Paul  Huckabee  \\\n",
       "0   Addison 1     39    21      14      3       1         0     0         0   \n",
       "1  Addison 10     70    31       8     13       0         0     0         0   \n",
       "2  Addison 11     65    39       7      8       0         0     0         0   \n",
       "3  Addison 12     74    27      27     15       1         0     0         0   \n",
       "4  Addison 13    104    41      37      4       1         0     0         0   \n",
       "\n",
       "   Bush  Christie  Fiorina winner  Trump_margin  \n",
       "0     0         0        0  Trump            18  \n",
       "1     0         0        0  Trump            39  \n",
       "2     0         0        0  Trump            26  \n",
       "3     1         0        0  Trump            47  \n",
       "4     0         0        0  Trump            63  "
      ]
     },
     "execution_count": 3,
     "metadata": {},
     "output_type": "execute_result"
    }
   ],
   "source": [
    "# find where Trump is winner\n",
    "df.loc[ ( df['Trump'] > df['Cruz'] ) & ( df['Trump'] > df['Kasich'] ) & ( df['Trump'] > df['Rubio'] ) & ( df['Trump'] > df['Carson'] ) & ( df['Trump'] > df['Bush'] ) & ( df['Trump'] > df['Christie'] ) & ( df['Trump'] > df['Paul'] ) & ( df['Trump'] > df['Fiorina'] ) & ( df['Trump'] > df['Huckabee'] ) & ( df['Trump'] > df['Santorum'] ), \"winner\"] = 'Trump'\n",
    "# Find second place person and do math\n",
    "df.loc[(df['Kasich'] < df['Trump']) & (df['Kasich'] >= df['Cruz']) & (df['Kasich'] >= df['Rubio']) & (df['Kasich'] >= df['Carson'] & (df['Kasich'] >= df['Bush']) & (df['Kasich'] >= df['Christie']) & (df['Kasich'] >= df['Paul']) & (df['Kasich'] >= df['Fiorina']) & (df['Kasich'] >= df['Huckabee']) & (df['Kasich'] >= df['Santorum'])), \"Trump_margin\"] = (df['Trump'] - df['Kasich'])\n",
    "df.loc[(df['Cruz'] < df['Trump']) & (df['Cruz'] >= df['Kasich']) & (df['Cruz'] >= df['Rubio']) & (df['Cruz'] >= df['Carson'] & (df['Cruz'] >= df['Bush']) & (df['Cruz'] >= df['Christie']) & (df['Cruz'] >= df['Paul']) & (df['Cruz'] >= df['Fiorina']) & (df['Cruz'] >= df['Huckabee']) & (df['Cruz'] >= df['Santorum'])), \"Trump_margin\"] = (df['Trump'] - df['Cruz'])\n",
    "df.loc[(df['Rubio'] < df['Trump']) & (df['Rubio'] >= df['Cruz']) & (df['Rubio'] >= df['Kasich']) & (df['Rubio'] >= df['Carson'] & (df['Rubio'] >= df['Rubio']) & (df['Rubio'] >= df['Christie']) & (df['Rubio'] >= df['Paul']) & (df['Rubio'] >= df['Fiorina']) & (df['Rubio'] >= df['Huckabee']) & (df['Rubio'] >= df['Santorum'])), \"Trump_margin\"] = (df['Trump'] - df['Rubio'])\n",
    "\n",
    "df.head(5)"
   ]
  },
  {
   "cell_type": "code",
   "execution_count": 4,
   "metadata": {
    "collapsed": false
   },
   "outputs": [
    {
     "data": {
      "text/html": [
       "<div>\n",
       "<table border=\"1\" class=\"dataframe\">\n",
       "  <thead>\n",
       "    <tr style=\"text-align: right;\">\n",
       "      <th></th>\n",
       "      <th>Precinct</th>\n",
       "      <th>Trump</th>\n",
       "      <th>Cruz</th>\n",
       "      <th>Kasich</th>\n",
       "      <th>Rubio</th>\n",
       "      <th>Carson</th>\n",
       "      <th>Santorum</th>\n",
       "      <th>Paul</th>\n",
       "      <th>Huckabee</th>\n",
       "      <th>Bush</th>\n",
       "      <th>Christie</th>\n",
       "      <th>Fiorina</th>\n",
       "      <th>winner</th>\n",
       "      <th>Trump_margin</th>\n",
       "      <th>Kasich_margin</th>\n",
       "    </tr>\n",
       "  </thead>\n",
       "  <tbody>\n",
       "    <tr>\n",
       "      <th>0</th>\n",
       "      <td>Addison 1</td>\n",
       "      <td>39</td>\n",
       "      <td>21</td>\n",
       "      <td>14</td>\n",
       "      <td>3</td>\n",
       "      <td>1</td>\n",
       "      <td>0</td>\n",
       "      <td>0</td>\n",
       "      <td>0</td>\n",
       "      <td>0</td>\n",
       "      <td>0</td>\n",
       "      <td>0</td>\n",
       "      <td>Trump</td>\n",
       "      <td>18</td>\n",
       "      <td>NaN</td>\n",
       "    </tr>\n",
       "    <tr>\n",
       "      <th>1</th>\n",
       "      <td>Addison 10</td>\n",
       "      <td>70</td>\n",
       "      <td>31</td>\n",
       "      <td>8</td>\n",
       "      <td>13</td>\n",
       "      <td>0</td>\n",
       "      <td>0</td>\n",
       "      <td>0</td>\n",
       "      <td>0</td>\n",
       "      <td>0</td>\n",
       "      <td>0</td>\n",
       "      <td>0</td>\n",
       "      <td>Trump</td>\n",
       "      <td>39</td>\n",
       "      <td>NaN</td>\n",
       "    </tr>\n",
       "    <tr>\n",
       "      <th>2</th>\n",
       "      <td>Addison 11</td>\n",
       "      <td>65</td>\n",
       "      <td>39</td>\n",
       "      <td>7</td>\n",
       "      <td>8</td>\n",
       "      <td>0</td>\n",
       "      <td>0</td>\n",
       "      <td>0</td>\n",
       "      <td>0</td>\n",
       "      <td>0</td>\n",
       "      <td>0</td>\n",
       "      <td>0</td>\n",
       "      <td>Trump</td>\n",
       "      <td>26</td>\n",
       "      <td>NaN</td>\n",
       "    </tr>\n",
       "    <tr>\n",
       "      <th>3</th>\n",
       "      <td>Addison 12</td>\n",
       "      <td>74</td>\n",
       "      <td>27</td>\n",
       "      <td>27</td>\n",
       "      <td>15</td>\n",
       "      <td>1</td>\n",
       "      <td>0</td>\n",
       "      <td>0</td>\n",
       "      <td>0</td>\n",
       "      <td>1</td>\n",
       "      <td>0</td>\n",
       "      <td>0</td>\n",
       "      <td>Trump</td>\n",
       "      <td>47</td>\n",
       "      <td>NaN</td>\n",
       "    </tr>\n",
       "    <tr>\n",
       "      <th>4</th>\n",
       "      <td>Addison 13</td>\n",
       "      <td>104</td>\n",
       "      <td>41</td>\n",
       "      <td>37</td>\n",
       "      <td>4</td>\n",
       "      <td>1</td>\n",
       "      <td>0</td>\n",
       "      <td>0</td>\n",
       "      <td>0</td>\n",
       "      <td>0</td>\n",
       "      <td>0</td>\n",
       "      <td>0</td>\n",
       "      <td>Trump</td>\n",
       "      <td>63</td>\n",
       "      <td>NaN</td>\n",
       "    </tr>\n",
       "  </tbody>\n",
       "</table>\n",
       "</div>"
      ],
      "text/plain": [
       "     Precinct  Trump  Cruz  Kasich  Rubio  Carson  Santorum  Paul  Huckabee  \\\n",
       "0   Addison 1     39    21      14      3       1         0     0         0   \n",
       "1  Addison 10     70    31       8     13       0         0     0         0   \n",
       "2  Addison 11     65    39       7      8       0         0     0         0   \n",
       "3  Addison 12     74    27      27     15       1         0     0         0   \n",
       "4  Addison 13    104    41      37      4       1         0     0         0   \n",
       "\n",
       "   Bush  Christie  Fiorina winner  Trump_margin  Kasich_margin  \n",
       "0     0         0        0  Trump            18            NaN  \n",
       "1     0         0        0  Trump            39            NaN  \n",
       "2     0         0        0  Trump            26            NaN  \n",
       "3     1         0        0  Trump            47            NaN  \n",
       "4     0         0        0  Trump            63            NaN  "
      ]
     },
     "execution_count": 4,
     "metadata": {},
     "output_type": "execute_result"
    }
   ],
   "source": [
    "# find where Kasich is winner\n",
    "df.loc[(df['Kasich'] > df['Trump']) & (df['Kasich'] > df['Cruz']) & (df['Kasich'] > df['Rubio']) & (df['Kasich'] > df['Carson']) & (df['Kasich'] > df['Bush']) & (df['Kasich'] > df['Christie']) & (df['Kasich'] > df['Paul']) & (df['Kasich'] > df['Fiorina']) & (df['Kasich'] > df['Huckabee']) & (df['Kasich'] > df['Santorum']), \"winner\"] = 'Kasich'\n",
    "# Find second place person and do math\n",
    "df.loc[(df['Trump'] < df['Kasich']) & (df['Trump'] >= df['Cruz']) & (df['Trump'] >= df['Rubio']) & (df['Trump'] >= df['Carson'] & (df['Trump'] >= df['Bush']) & (df['Trump'] >= df['Christie']) & (df['Trump'] >= df['Paul']) & (df['Trump'] >= df['Fiorina']) & (df['Trump'] >= df['Huckabee']) & (df['Trump'] >= df['Santorum'])), \"Kasich_margin\"] = (df['Kasich'] - df['Trump'])\n",
    "df.loc[(df['Cruz'] < df['Kasich']) & (df['Cruz'] >= df['Trump']) & (df['Cruz'] >= df['Rubio']) & (df['Cruz'] >= df['Carson'] & (df['Cruz'] >= df['Bush']) & (df['Cruz'] >= df['Christie']) & (df['Cruz'] >= df['Paul']) & (df['Cruz'] >= df['Fiorina']) & (df['Cruz'] >= df['Huckabee']) & (df['Cruz'] >= df['Santorum'])), \"Kasich_margin\"] = (df['Kasich'] - df['Cruz'])\n",
    "df.loc[(df['Rubio'] < df['Kasich']) & (df['Rubio'] >= df['Trump']) & (df['Rubio'] >= df['Cruz']) & (df['Rubio'] >= df['Carson'] & (df['Rubio'] >= df['Rubio']) & (df['Rubio'] >= df['Christie']) & (df['Rubio'] >= df['Paul']) & (df['Rubio'] >= df['Fiorina']) & (df['Rubio'] >= df['Huckabee']) & (df['Rubio'] >= df['Santorum'])), \"Kasich_margin\"] = (df['Kasich'] - df['Rubio'])\n",
    "\n",
    "df.head(5)"
   ]
  },
  {
   "cell_type": "code",
   "execution_count": 5,
   "metadata": {
    "collapsed": false
   },
   "outputs": [
    {
     "data": {
      "text/html": [
       "<div>\n",
       "<table border=\"1\" class=\"dataframe\">\n",
       "  <thead>\n",
       "    <tr style=\"text-align: right;\">\n",
       "      <th></th>\n",
       "      <th>Precinct</th>\n",
       "      <th>Trump</th>\n",
       "      <th>Cruz</th>\n",
       "      <th>Kasich</th>\n",
       "      <th>Rubio</th>\n",
       "      <th>Carson</th>\n",
       "      <th>Santorum</th>\n",
       "      <th>Paul</th>\n",
       "      <th>Huckabee</th>\n",
       "      <th>Bush</th>\n",
       "      <th>Christie</th>\n",
       "      <th>Fiorina</th>\n",
       "      <th>winner</th>\n",
       "      <th>Trump_margin</th>\n",
       "      <th>Kasich_margin</th>\n",
       "      <th>Cruz_margin</th>\n",
       "    </tr>\n",
       "  </thead>\n",
       "  <tbody>\n",
       "    <tr>\n",
       "      <th>0</th>\n",
       "      <td>Addison 1</td>\n",
       "      <td>39</td>\n",
       "      <td>21</td>\n",
       "      <td>14</td>\n",
       "      <td>3</td>\n",
       "      <td>1</td>\n",
       "      <td>0</td>\n",
       "      <td>0</td>\n",
       "      <td>0</td>\n",
       "      <td>0</td>\n",
       "      <td>0</td>\n",
       "      <td>0</td>\n",
       "      <td>Trump</td>\n",
       "      <td>18</td>\n",
       "      <td>NaN</td>\n",
       "      <td>NaN</td>\n",
       "    </tr>\n",
       "    <tr>\n",
       "      <th>1</th>\n",
       "      <td>Addison 10</td>\n",
       "      <td>70</td>\n",
       "      <td>31</td>\n",
       "      <td>8</td>\n",
       "      <td>13</td>\n",
       "      <td>0</td>\n",
       "      <td>0</td>\n",
       "      <td>0</td>\n",
       "      <td>0</td>\n",
       "      <td>0</td>\n",
       "      <td>0</td>\n",
       "      <td>0</td>\n",
       "      <td>Trump</td>\n",
       "      <td>39</td>\n",
       "      <td>NaN</td>\n",
       "      <td>NaN</td>\n",
       "    </tr>\n",
       "    <tr>\n",
       "      <th>2</th>\n",
       "      <td>Addison 11</td>\n",
       "      <td>65</td>\n",
       "      <td>39</td>\n",
       "      <td>7</td>\n",
       "      <td>8</td>\n",
       "      <td>0</td>\n",
       "      <td>0</td>\n",
       "      <td>0</td>\n",
       "      <td>0</td>\n",
       "      <td>0</td>\n",
       "      <td>0</td>\n",
       "      <td>0</td>\n",
       "      <td>Trump</td>\n",
       "      <td>26</td>\n",
       "      <td>NaN</td>\n",
       "      <td>NaN</td>\n",
       "    </tr>\n",
       "    <tr>\n",
       "      <th>3</th>\n",
       "      <td>Addison 12</td>\n",
       "      <td>74</td>\n",
       "      <td>27</td>\n",
       "      <td>27</td>\n",
       "      <td>15</td>\n",
       "      <td>1</td>\n",
       "      <td>0</td>\n",
       "      <td>0</td>\n",
       "      <td>0</td>\n",
       "      <td>1</td>\n",
       "      <td>0</td>\n",
       "      <td>0</td>\n",
       "      <td>Trump</td>\n",
       "      <td>47</td>\n",
       "      <td>NaN</td>\n",
       "      <td>NaN</td>\n",
       "    </tr>\n",
       "    <tr>\n",
       "      <th>4</th>\n",
       "      <td>Addison 13</td>\n",
       "      <td>104</td>\n",
       "      <td>41</td>\n",
       "      <td>37</td>\n",
       "      <td>4</td>\n",
       "      <td>1</td>\n",
       "      <td>0</td>\n",
       "      <td>0</td>\n",
       "      <td>0</td>\n",
       "      <td>0</td>\n",
       "      <td>0</td>\n",
       "      <td>0</td>\n",
       "      <td>Trump</td>\n",
       "      <td>63</td>\n",
       "      <td>NaN</td>\n",
       "      <td>NaN</td>\n",
       "    </tr>\n",
       "  </tbody>\n",
       "</table>\n",
       "</div>"
      ],
      "text/plain": [
       "     Precinct  Trump  Cruz  Kasich  Rubio  Carson  Santorum  Paul  Huckabee  \\\n",
       "0   Addison 1     39    21      14      3       1         0     0         0   \n",
       "1  Addison 10     70    31       8     13       0         0     0         0   \n",
       "2  Addison 11     65    39       7      8       0         0     0         0   \n",
       "3  Addison 12     74    27      27     15       1         0     0         0   \n",
       "4  Addison 13    104    41      37      4       1         0     0         0   \n",
       "\n",
       "   Bush  Christie  Fiorina winner  Trump_margin  Kasich_margin  Cruz_margin  \n",
       "0     0         0        0  Trump            18            NaN          NaN  \n",
       "1     0         0        0  Trump            39            NaN          NaN  \n",
       "2     0         0        0  Trump            26            NaN          NaN  \n",
       "3     1         0        0  Trump            47            NaN          NaN  \n",
       "4     0         0        0  Trump            63            NaN          NaN  "
      ]
     },
     "execution_count": 5,
     "metadata": {},
     "output_type": "execute_result"
    }
   ],
   "source": [
    "# find where Cruz is winner\n",
    "df.loc[(df['Cruz'] > df['Trump']) & (df['Cruz'] > df['Kasich']) & (df['Cruz'] > df['Rubio']) & (df['Cruz'] > df['Carson']) & (df['Cruz'] > df['Bush']) & (df['Cruz'] > df['Christie']) & (df['Cruz'] > df['Paul']) & (df['Cruz'] > df['Fiorina']) & (df['Cruz'] > df['Huckabee']) & (df['Cruz'] > df['Santorum']), \"winner\"] = 'Cruz'\n",
    "# Find second place person and do math\n",
    "df.loc[(df['Trump'] < df['Cruz']) & (df['Trump'] >= df['Kasich']) & (df['Trump'] >= df['Rubio']) & (df['Trump'] >= df['Carson'] & (df['Trump'] >= df['Bush']) & (df['Trump'] >= df['Christie']) & (df['Trump'] >= df['Paul']) & (df['Trump'] >= df['Fiorina']) & (df['Trump'] >= df['Huckabee']) & (df['Trump'] >= df['Santorum'])), \"Cruz_margin\"] = (df['Cruz'] - df['Trump'])\n",
    "df.loc[(df['Kasich'] < df['Cruz']) & (df['Kasich'] >= df['Trump']) & (df['Kasich'] >= df['Rubio']) & (df['Kasich'] >= df['Carson'] & (df['Kasich'] >= df['Bush']) & (df['Kasich'] >= df['Christie']) & (df['Kasich'] >= df['Paul']) & (df['Kasich'] >= df['Fiorina']) & (df['Kasich'] >= df['Huckabee']) & (df['Kasich'] >= df['Santorum'])), \"Cruz_margin\"] = (df['Cruz'] - df['Kasich'])\n",
    "df.loc[(df['Rubio'] < df['Cruz']) & (df['Rubio'] >= df['Trump']) & (df['Rubio'] >= df['Kasich']) & (df['Rubio'] >= df['Carson'] & (df['Rubio'] >= df['Rubio']) & (df['Rubio'] >= df['Christie']) & (df['Rubio'] >= df['Paul']) & (df['Rubio'] >= df['Fiorina']) & (df['Rubio'] >= df['Huckabee']) & (df['Rubio'] >= df['Santorum'])), \"Cruz_margin\"] = (df['Cruz'] - df['Rubio'])\n",
    "\n",
    "df.head(5)"
   ]
  },
  {
   "cell_type": "code",
   "execution_count": 6,
   "metadata": {
    "collapsed": true
   },
   "outputs": [],
   "source": [
    "df.to_csv(\"DuPage_margin.csv\", index=False, encoding=\"utf-8\")"
   ]
  },
  {
   "cell_type": "code",
   "execution_count": null,
   "metadata": {
    "collapsed": true
   },
   "outputs": [],
   "source": []
  },
  {
   "cell_type": "code",
   "execution_count": null,
   "metadata": {
    "collapsed": true
   },
   "outputs": [],
   "source": []
  },
  {
   "cell_type": "code",
   "execution_count": null,
   "metadata": {
    "collapsed": true
   },
   "outputs": [],
   "source": []
  },
  {
   "cell_type": "code",
   "execution_count": null,
   "metadata": {
    "collapsed": true
   },
   "outputs": [],
   "source": []
  },
  {
   "cell_type": "code",
   "execution_count": null,
   "metadata": {
    "collapsed": true
   },
   "outputs": [],
   "source": []
  },
  {
   "cell_type": "code",
   "execution_count": null,
   "metadata": {
    "collapsed": true
   },
   "outputs": [],
   "source": []
  }
 ],
 "metadata": {
  "kernelspec": {
   "display_name": "Python 3",
   "language": "python",
   "name": "python3"
  },
  "language_info": {
   "codemirror_mode": {
    "name": "ipython",
    "version": 3
   },
   "file_extension": ".py",
   "mimetype": "text/x-python",
   "name": "python",
   "nbconvert_exporter": "python",
   "pygments_lexer": "ipython3",
   "version": "3.5.1"
  }
 },
 "nbformat": 4,
 "nbformat_minor": 0
}
